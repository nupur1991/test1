{
 "cells": [
  {
   "cell_type": "code",
   "execution_count": 1,
   "metadata": {
    "collapsed": true
   },
   "outputs": [],
   "source": [
    "import numpy as np\n",
    "import math\n",
    "import cv2\n",
    "import tensorflow as tf\n",
    "from sklearn.utils import shuffle\n",
    "import matplotlib.image as mpimg\n",
    "import matplotlib.pyplot as plt\n",
    "import sklearn"
   ]
  },
  {
   "cell_type": "code",
   "execution_count": 2,
   "metadata": {},
   "outputs": [
    {
     "name": "stdout",
     "output_type": "stream",
     "text": [
      "Data import done!\n"
     ]
    }
   ],
   "source": [
    "### Read the csv\n",
    "import os\n",
    "import csv\n",
    "\n",
    "sim_data_set = []\n",
    "csv_path = './data/driving_log.csv'\n",
    "with open(csv_path) as csvfile:\n",
    "    reader = csv.reader(csvfile)\n",
    "    for line in reader:\n",
    "        sim_data_set.append(line)\n",
    "#From csv file, first line is header, so remove header line\n",
    "sim_data_set = sim_data_set[1:]\n",
    "print('Data import done!')"
   ]
  },
  {
   "cell_type": "code",
   "execution_count": 3,
   "metadata": {
    "collapsed": true
   },
   "outputs": [],
   "source": [
    "###Define functions for image pre-proceesing(crop and resize) and fake data formation so that they can be called \n",
    "###in generator function\n",
    "\n",
    "def pre_process(img):\n",
    "    #Crop image to see section of the road\n",
    "    crop_image = img[50:140, :]\n",
    "    #Resize\n",
    "    return cv2.resize(crop_image,(66,200)) \n",
    "\n",
    "def left_images(data):\n",
    "    source_path=data[1]\n",
    "    img_name=source_path.split('/')[-1]\n",
    "    current_path='./data/IMG/'+img_name\n",
    "    image=cv2.imread(current_path)\n",
    "    image=pre_process(image)\n",
    "    measurement=float(data[3])+0.25 #correction factor\n",
    "    return image,measurement\n",
    "\n",
    "def right_images(data):\n",
    "    source_path=data[2]\n",
    "    img_name=source_path.split('/')[-1]\n",
    "    current_path='./data/IMG/'+img_name\n",
    "    image=cv2.imread(current_path)\n",
    "    image=pre_process(image)\n",
    "    measurement=float(data[3])-0.25 #correction factor\n",
    "    return image,measurement\n",
    "\n",
    "def flip_image(image):\n",
    "    return cv2.flip(image, 1)\n",
    "\n",
    "def change_brightness(image):\n",
    "    dst = cv2.cvtColor(image, cv2.COLOR_RGB2HSV)\n",
    "    dst[:,:,2] = dst[:,:,2]*np.random.uniform(low = 0.4, high = 1.0)\n",
    "    return cv2.cvtColor(dst, cv2.COLOR_HSV2RGB)\n",
    "    \n",
    "# Shifts the images horizontally and vertically\n",
    "def shift_image(image, center_angle):\n",
    "    x_shift = np.random.randint(low = -20, high = 20)\n",
    "    y_shift = np.random.randint(low = -8, high = 8)\n",
    "    shift = np.float32([[1,0, x_shift],[0,1,y_shift]])\n",
    "    corrected_angle = np.sign(x_shift)*0.009 + center_angle\n",
    "    return cv2.warpAffine(image,shift,(66,200)), corrected_angle"
   ]
  },
  {
   "cell_type": "code",
   "execution_count": 4,
   "metadata": {
    "collapsed": true
   },
   "outputs": [],
   "source": [
    "#Define generator function to create data for each epoch\n",
    "#Sample is whole line in original dataset, we need to read inages and process them\n",
    "\n",
    "def generator(samples):\n",
    "    batch_size=32\n",
    "    num_samples = len(samples)\n",
    "    while 1: # Loop forever so the generator never terminates\n",
    "        shuffle(samples)\n",
    "        for offset in range(0, num_samples, batch_size):\n",
    "            batch_samples = samples[offset:offset+batch_size]\n",
    "            #Initilize dataset\n",
    "            images = []\n",
    "            angles = []\n",
    "            for batch_sample in batch_samples:\n",
    "                #Read center image and angle\n",
    "                name = './data/IMG/'+batch_sample[0].split('/')[-1]\n",
    "                center_image = cv2.imread(name)\n",
    "                center_image=pre_process(center_image)\n",
    "                center_angle = float(batch_sample[3])\n",
    "                images.append(center_image)\n",
    "                angles.append(center_angle)\n",
    "                \n",
    "                #if angle is not zero, I would flip the image.\n",
    "                if center_angle != 0:\n",
    "                    #Include flip image\n",
    "                    flipped_img=flip_image(center_image)\n",
    "                    flipped_angle=-center_angle\n",
    "                    images.append(center_image)\n",
    "                    angles.append(center_angle)\n",
    "                \n",
    "                #Include image with change in brightness\n",
    "                bright_img=change_brightness(center_image)\n",
    "                images.append(bright_img)\n",
    "                angles.append(center_angle)\n",
    "                    \n",
    "                #Include shifted image\n",
    "                shift_img,shift_angle=shift_image(center_image,center_angle)\n",
    "                images.append(shift_img)\n",
    "                angles.append(shift_angle)\n",
    "                \n",
    "                #include left image\n",
    "                left_img,left_angle=left_images(batch_sample)\n",
    "                images.append(left_img)\n",
    "                angles.append(left_angle)\n",
    "                \n",
    "                #include right image\n",
    "                right_img,right_angle=right_images(batch_sample)\n",
    "                images.append(right_img)\n",
    "                angles.append(right_angle)\n",
    "            \n",
    "            #Keras needs input in the form of arrays\n",
    "            X_train = np.array(images)\n",
    "            y_train = np.array(angles)\n",
    "            yield shuffle(X_train, y_train)\n"
   ]
  },
  {
   "cell_type": "code",
   "execution_count": 5,
   "metadata": {},
   "outputs": [
    {
     "name": "stderr",
     "output_type": "stream",
     "text": [
      "Using TensorFlow backend.\n"
     ]
    }
   ],
   "source": [
    "### Model architecture: NVDIA\n",
    "from keras.models import Sequential\n",
    "from keras.layers.core import Dense, Activation, Flatten, Dropout, Lambda, Reshape\n",
    "from keras.layers.convolutional import Convolution2D\n",
    "from keras.layers import Cropping2D\n",
    "from keras.layers.advanced_activations import LeakyReLU\n",
    "\n",
    "model = Sequential()\n",
    "model.add(Lambda(lambda x: (x / 255) - 0.5, output_shape = (200,66,3), input_shape = (200,66,3))) \n",
    "model.add(Convolution2D(24, 5, 5, border_mode='valid', subsample=(2,2)))\n",
    "model.add(LeakyReLU(alpha=0.3))\n",
    "model.add(Dropout(p = 0.5))\n",
    "model.add(Convolution2D(36, 5, 5, border_mode='valid', subsample=(2,2)))\n",
    "model.add(LeakyReLU(alpha=0.3))\n",
    "model.add(Dropout(p = 0.5))\n",
    "model.add(Convolution2D(48, 5, 5, border_mode='valid', subsample=(2,2)))\n",
    "model.add(LeakyReLU(alpha=0.3))\n",
    "model.add(Dropout(p = 0.5))\n",
    "model.add(Convolution2D(64, 3, 3, border_mode='valid', subsample=(1,1)))\n",
    "model.add(LeakyReLU(alpha=0.3))\n",
    "model.add(Dropout(p = 0.5))\n",
    "model.add(Convolution2D(64, 3, 3, border_mode='valid', subsample=(1,1)))\n",
    "model.add(LeakyReLU(alpha=0.3))\n",
    "model.add(Dropout(p = 0.5))\n",
    "model.add(Flatten())\n",
    "model.add(Dense(100))\n",
    "model.add(LeakyReLU(alpha=0.3))\n",
    "model.add(Dropout(p = 0.5))\n",
    "model.add(Dense(50))\n",
    "model.add(LeakyReLU(alpha=0.3))\n",
    "model.add(Dropout(p = 0.5))\n",
    "model.add(Dense(10))\n",
    "model.add(LeakyReLU(alpha=0.3))\n",
    "model.add(Dropout(p = 0.5))\n",
    "model.add(Dense(1))"
   ]
  },
  {
   "cell_type": "code",
   "execution_count": 6,
   "metadata": {},
   "outputs": [
    {
     "name": "stdout",
     "output_type": "stream",
     "text": [
      "Epoch 1/5\n",
      "57926/58000 [============================>.] - ETA: 0s - loss: 0.0364"
     ]
    },
    {
     "name": "stderr",
     "output_type": "stream",
     "text": [
      "/Users/noopur/miniconda3/envs/carnd-term1/lib/python3.5/site-packages/keras/engine/training.py:1569: UserWarning: Epoch comprised more than `samples_per_epoch` samples, which might affect learning results. Set `samples_per_epoch` correctly to avoid this warning.\n",
      "  warnings.warn('Epoch comprised more than '\n"
     ]
    },
    {
     "name": "stdout",
     "output_type": "stream",
     "text": [
      "58103/58000 [==============================] - 627s - loss: 0.0364 - val_loss: 0.0310\n",
      "Epoch 2/5\n",
      "58073/58000 [==============================] - 612s - loss: 0.0279 - val_loss: 0.0267\n",
      "Epoch 3/5\n",
      "58106/58000 [==============================] - 612s - loss: 0.0257 - val_loss: 0.0209\n",
      "Epoch 4/5\n",
      "58064/58000 [==============================] - 612s - loss: 0.0247 - val_loss: 0.0303\n",
      "Epoch 5/5\n",
      "58092/58000 [==============================] - 622s - loss: 0.0240 - val_loss: 0.0218\n",
      "Model training done!\n"
     ]
    }
   ],
   "source": [
    "### Configures the learning process\n",
    "model.compile(optimizer='adam',loss='mean_squared_error')\n",
    "\n",
    "### Split into train samples and validation samples\n",
    "from sklearn.model_selection import train_test_split\n",
    "train_samples, validation_samples = train_test_split(sim_data_set, test_size=0.2)\n",
    "\n",
    "### Train the model\n",
    "train_generator = generator(train_samples) \n",
    "validation_generator = generator(validation_samples)\n",
    "        \n",
    "history = model.fit_generator(train_generator,samples_per_epoch= 58000, \n",
    "        validation_data=validation_generator, nb_val_samples=len(validation_samples),nb_epoch=5)\n",
    "\n",
    "### Save the model\n",
    "model.save('./model.h5')  # creates a HDF5 file\n",
    "\n",
    "print('Model training done!')"
   ]
  }
 ],
 "metadata": {
  "kernelspec": {
   "display_name": "Python 3",
   "language": "python",
   "name": "python3"
  },
  "language_info": {
   "codemirror_mode": {
    "name": "ipython",
    "version": 3
   },
   "file_extension": ".py",
   "mimetype": "text/x-python",
   "name": "python",
   "nbconvert_exporter": "python",
   "pygments_lexer": "ipython3",
   "version": "3.5.2"
  },
  "widgets": {
   "state": {},
   "version": "1.1.2"
  }
 },
 "nbformat": 4,
 "nbformat_minor": 2
}
