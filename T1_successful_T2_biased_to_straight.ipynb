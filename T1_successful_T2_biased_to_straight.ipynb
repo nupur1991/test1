{
 "cells": [
  {
   "cell_type": "code",
   "execution_count": 1,
   "metadata": {
    "collapsed": true
   },
   "outputs": [],
   "source": [
    "import numpy as np\n",
    "import math\n",
    "import cv2\n",
    "import tensorflow as tf\n",
    "from sklearn.utils import shuffle\n",
    "import matplotlib.image as mpimg\n",
    "import matplotlib.pyplot as plt"
   ]
  },
  {
   "cell_type": "code",
   "execution_count": 2,
   "metadata": {
    "collapsed": true
   },
   "outputs": [],
   "source": [
    "### Read the csv\n",
    "import os\n",
    "import csv\n",
    "\n",
    "samples = []\n",
    "csv_path = './data/driving_log.csv'\n",
    "with open(csv_path) as csvfile:\n",
    "    reader = csv.reader(csvfile)\n",
    "    for line in reader:\n",
    "        samples.append(line)\n",
    "samples = samples[1:] # gets rid of the header"
   ]
  },
  {
   "cell_type": "code",
   "execution_count": 3,
   "metadata": {
    "collapsed": true
   },
   "outputs": [],
   "source": [
    "### Preprocess the image\n",
    "def preprocess_image(image_data):\n",
    "    image = image_data[50:140, :] # Crop image[y: y + h, x: x + w]\n",
    "    image = cv2.resize(image,(66,200)) # resizing the image x,y\n",
    "    return image"
   ]
  },
  {
   "cell_type": "code",
   "execution_count": 4,
   "metadata": {
    "collapsed": true
   },
   "outputs": [],
   "source": [
    "### Image Augmentation\n",
    "\n",
    "# Flips about the vertical axis\n",
    "def flip_image(image_data):\n",
    "    return cv2.flip(image_data, 1)\n",
    "\n",
    "# Converts left and right images to center images  \n",
    "def multiple_cameras(path, line):\n",
    "    name_left = path + '/IMG/'+ line[1].split('/')[-1]\n",
    "    left_image = mpimg.imread(name_left)\n",
    "    left_image = preprocess_image(left_image)\n",
    "    name_right = path + '/IMG/'+ line[2].split('/')[-1]\n",
    "    right_image = mpimg.imread(name_right)\n",
    "    right_image = preprocess_image(right_image)\n",
    "    center_angle = float(line[3])\n",
    "    left_angle = center_angle + 0.25\n",
    "    right_angle = center_angle - 0.25\n",
    "    return left_image, right_image, left_angle, right_angle\n",
    "\n",
    "# Randomly changes brightness of the images\n",
    "def brightness(image_data):\n",
    "    dst = cv2.cvtColor(image_data, cv2.COLOR_RGB2HSV)\n",
    "    dst[:,:,2] = dst[:,:,2]*np.random.uniform(low = 0.4, high = 1.0)\n",
    "    return cv2.cvtColor(dst, cv2.COLOR_HSV2RGB)\n",
    "\n",
    "# Randomly adds a rectangular block of shadow to the images\n",
    "def shadow(image_data):\n",
    "    dst = cv2.cvtColor(image_data, cv2.COLOR_RGB2HLS)\n",
    "    col = np.random.randint(low=0,high=30)\n",
    "    row = np.random.randint(low=100,high=140)\n",
    "    dst[row:row+60,col:col+30,1] = dst[row:row+60,col:col+30,1]*0.7\n",
    "    return cv2.cvtColor(dst, cv2.COLOR_HLS2RGB)  \n",
    "\n",
    "# Shifts the images horizontally and vertically\n",
    "def shift_horizontal(image_data, center_angle):\n",
    "    tx = np.random.randint(low = -30, high = 30)\n",
    "    ty = np.random.randint(low = -10, high = 10)\n",
    "    M = np.float32([[1,0, tx],[0,1,ty]])\n",
    "    steer = np.sign(tx)*0.009 + center_angle\n",
    "    return cv2.warpAffine(image_data,M,(66,200)), steer"
   ]
  },
  {
   "cell_type": "code",
   "execution_count": 5,
   "metadata": {
    "collapsed": true
   },
   "outputs": [],
   "source": [
    "### Python Generator\n",
    "def generator(samples):\n",
    "    num_samples = len(samples)\n",
    "    BATCH_SIZE = 128\n",
    "    path = './data'\n",
    "    while 1:   \n",
    "        shuffle(samples)\n",
    "        for offset in range(0, num_samples, BATCH_SIZE):\n",
    "            end = offset + BATCH_SIZE\n",
    "            image_list = []\n",
    "            angle = []\n",
    "            batch_samples = samples[offset:end]\n",
    "            for line in batch_samples:\n",
    "                name = path + '/IMG/'+ line[0].split('/')[-1]\n",
    "                center_image = mpimg.imread(name)\n",
    "                center_image = preprocess_image(center_image)\n",
    "                image_list.append(center_image)\n",
    "                center_angle = float(line[3])\n",
    "                angle.append(center_angle)\n",
    "                if center_angle != 0:\n",
    "                    center_image_flip = flip_image(center_image)\n",
    "                    image_list.append(center_image_flip)\n",
    "                    angle.append(-center_angle)\n",
    "                    center_image_bright = brightness(center_image)\n",
    "                    center_image_shadow = shadow(center_image)\n",
    "                    image_list.extend([center_image_bright, center_image_shadow])\n",
    "                    angle.extend([center_angle, center_angle])    \n",
    "                image_shift_horizontal, angle_horizontal_shift = shift_horizontal(center_image, center_angle)\n",
    "                left_image, right_image, left_angle, right_angle = multiple_cameras(path, line)\n",
    "                image_list.extend([left_image, right_image, image_shift_horizontal])\n",
    "                angle.extend([left_angle, right_angle, angle_horizontal_shift])\n",
    "            X = np.array(image_list)\n",
    "            y = np.array(angle)\n",
    "            yield shuffle(X, y)"
   ]
  },
  {
   "cell_type": "code",
   "execution_count": 6,
   "metadata": {},
   "outputs": [
    {
     "name": "stderr",
     "output_type": "stream",
     "text": [
      "Using TensorFlow backend.\n"
     ]
    }
   ],
   "source": [
    "### Model architecture: NVDIA\n",
    "from keras.models import Sequential\n",
    "from keras.layers.core import Dense, Activation, Flatten, Dropout, Lambda, Reshape\n",
    "from keras.layers.convolutional import Convolution2D\n",
    "from keras.layers import Cropping2D\n",
    "from keras.layers.advanced_activations import LeakyReLU\n",
    "\n",
    "model = Sequential()\n",
    "model.add(Lambda(lambda x: (x / 255) - 0.5, output_shape = (200,66,3), input_shape = (200,66,3))) \n",
    "model.add(Convolution2D(24, 5, 5, border_mode='valid', subsample=(2,2)))\n",
    "model.add(LeakyReLU(alpha=0.3))\n",
    "model.add(Dropout(p = 0.5))\n",
    "model.add(Convolution2D(36, 5, 5, border_mode='valid', subsample=(2,2)))\n",
    "model.add(LeakyReLU(alpha=0.3))\n",
    "model.add(Dropout(p = 0.5))\n",
    "model.add(Convolution2D(48, 5, 5, border_mode='valid', subsample=(2,2)))\n",
    "model.add(LeakyReLU(alpha=0.3))\n",
    "model.add(Dropout(p = 0.5))\n",
    "model.add(Convolution2D(64, 3, 3, border_mode='valid', subsample=(1,1)))\n",
    "model.add(LeakyReLU(alpha=0.3))\n",
    "model.add(Dropout(p = 0.5))\n",
    "model.add(Convolution2D(64, 3, 3, border_mode='valid', subsample=(1,1)))\n",
    "model.add(LeakyReLU(alpha=0.3))\n",
    "model.add(Dropout(p = 0.5))\n",
    "model.add(Flatten())\n",
    "model.add(Dense(100))\n",
    "model.add(LeakyReLU(alpha=0.3))\n",
    "model.add(Dropout(p = 0.5))\n",
    "model.add(Dense(50))\n",
    "model.add(LeakyReLU(alpha=0.3))\n",
    "model.add(Dropout(p = 0.5))\n",
    "model.add(Dense(10))\n",
    "model.add(LeakyReLU(alpha=0.3))\n",
    "model.add(Dropout(p = 0.5))\n",
    "model.add(Dense(1))"
   ]
  },
  {
   "cell_type": "code",
   "execution_count": null,
   "metadata": {},
   "outputs": [
    {
     "name": "stdout",
     "output_type": "stream",
     "text": [
      "Epoch 1/1\n",
      "51583/55000 [===========================>..] - ETA: 36s - loss: 0.0438"
     ]
    }
   ],
   "source": [
    "### Configures the learning process\n",
    "model.compile(optimizer='adam',loss='mean_squared_error')\n",
    "\n",
    "### Split into train samples and validation samples\n",
    "from sklearn.model_selection import train_test_split\n",
    "train_samples, validation_samples = train_test_split(samples, test_size=0.2)\n",
    "\n",
    "### Train the model\n",
    "train_generator = generator(train_samples) \n",
    "validation_generator = generator(validation_samples)\n",
    "        \n",
    "history = model.fit_generator(train_generator,samples_per_epoch=55000, \n",
    "        validation_data=validation_generator, nb_val_samples=len(validation_samples),nb_epoch=1)\n",
    "\n",
    "### Save the model\n",
    "model.save('./model.h5')  # creates a HDF5 file"
   ]
  },
  {
   "cell_type": "code",
   "execution_count": null,
   "metadata": {
    "collapsed": true
   },
   "outputs": [],
   "source": []
  }
 ],
 "metadata": {
  "kernelspec": {
   "display_name": "Python 3",
   "language": "python",
   "name": "python3"
  },
  "language_info": {
   "codemirror_mode": {
    "name": "ipython",
    "version": 3
   },
   "file_extension": ".py",
   "mimetype": "text/x-python",
   "name": "python",
   "nbconvert_exporter": "python",
   "pygments_lexer": "ipython3",
   "version": "3.5.2"
  },
  "widgets": {
   "state": {},
   "version": "1.1.2"
  }
 },
 "nbformat": 4,
 "nbformat_minor": 2
}
